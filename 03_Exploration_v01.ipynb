{
 "cells": [
  {
   "cell_type": "markdown",
   "metadata": {},
   "source": [
    "# Exploration\n",
    "\n",
    "Attempt 1"
   ]
  },
  {
   "cell_type": "code",
   "execution_count": 1,
   "metadata": {
    "collapsed": true
   },
   "outputs": [],
   "source": [
    "%matplotlib inline\n",
    "\n",
    "import matplotlib.pyplot as plt\n",
    "import seaborn as sns\n",
    "import pandas as pd\n",
    "import numpy as np\n",
    "import utilities\n",
    "\n",
    "sns.set_style('white')"
   ]
  },
  {
   "cell_type": "code",
   "execution_count": 39,
   "metadata": {},
   "outputs": [
    {
     "data": {
      "text/html": [
       "<div>\n",
       "<style>\n",
       "    .dataframe thead tr:only-child th {\n",
       "        text-align: right;\n",
       "    }\n",
       "\n",
       "    .dataframe thead th {\n",
       "        text-align: left;\n",
       "    }\n",
       "\n",
       "    .dataframe tbody tr th {\n",
       "        vertical-align: top;\n",
       "    }\n",
       "</style>\n",
       "<table border=\"1\" class=\"dataframe\">\n",
       "  <thead>\n",
       "    <tr style=\"text-align: right;\">\n",
       "      <th></th>\n",
       "      <th>id</th>\n",
       "      <th>athlete_count</th>\n",
       "      <th>distance</th>\n",
       "      <th>avg_speed</th>\n",
       "      <th>moving_time</th>\n",
       "      <th>avg_hr</th>\n",
       "      <th>type</th>\n",
       "      <th>elevation_gain</th>\n",
       "      <th>latlng</th>\n",
       "    </tr>\n",
       "    <tr>\n",
       "      <th>date</th>\n",
       "      <th></th>\n",
       "      <th></th>\n",
       "      <th></th>\n",
       "      <th></th>\n",
       "      <th></th>\n",
       "      <th></th>\n",
       "      <th></th>\n",
       "      <th></th>\n",
       "      <th></th>\n",
       "    </tr>\n",
       "  </thead>\n",
       "  <tbody>\n",
       "    <tr>\n",
       "      <th>2017-07-09 17:52:52</th>\n",
       "      <td>1179739272</td>\n",
       "      <td>1</td>\n",
       "      <td>0.0</td>\n",
       "      <td>0.000</td>\n",
       "      <td>01:45:02</td>\n",
       "      <td>119.1</td>\n",
       "      <td>Ride</td>\n",
       "      <td>0.0</td>\n",
       "      <td>None</td>\n",
       "    </tr>\n",
       "    <tr>\n",
       "      <th>2017-07-07 18:00:38</th>\n",
       "      <td>1176094669</td>\n",
       "      <td>1</td>\n",
       "      <td>5022.2</td>\n",
       "      <td>2.589</td>\n",
       "      <td>00:32:20</td>\n",
       "      <td>NaN</td>\n",
       "      <td>Run</td>\n",
       "      <td>21.9</td>\n",
       "      <td>(55.95, -3.19)</td>\n",
       "    </tr>\n",
       "    <tr>\n",
       "      <th>2017-07-06 18:10:57</th>\n",
       "      <td>1174619866</td>\n",
       "      <td>1</td>\n",
       "      <td>0.0</td>\n",
       "      <td>0.000</td>\n",
       "      <td>00:42:11</td>\n",
       "      <td>105.4</td>\n",
       "      <td>Ride</td>\n",
       "      <td>0.0</td>\n",
       "      <td>None</td>\n",
       "    </tr>\n",
       "    <tr>\n",
       "      <th>2017-07-05 17:50:32</th>\n",
       "      <td>1173071844</td>\n",
       "      <td>1</td>\n",
       "      <td>4977.9</td>\n",
       "      <td>2.469</td>\n",
       "      <td>00:33:36</td>\n",
       "      <td>148.3</td>\n",
       "      <td>Run</td>\n",
       "      <td>20.5</td>\n",
       "      <td>(55.95, -3.19)</td>\n",
       "    </tr>\n",
       "    <tr>\n",
       "      <th>2017-07-01 16:30:48</th>\n",
       "      <td>1173071487</td>\n",
       "      <td>1</td>\n",
       "      <td>2889.1</td>\n",
       "      <td>2.586</td>\n",
       "      <td>00:18:37</td>\n",
       "      <td>160.1</td>\n",
       "      <td>Run</td>\n",
       "      <td>20.4</td>\n",
       "      <td>(55.95, -3.19)</td>\n",
       "    </tr>\n",
       "  </tbody>\n",
       "</table>\n",
       "</div>"
      ],
      "text/plain": [
       "                             id  athlete_count  distance  avg_speed  \\\n",
       "date                                                                  \n",
       "2017-07-09 17:52:52  1179739272              1       0.0      0.000   \n",
       "2017-07-07 18:00:38  1176094669              1    5022.2      2.589   \n",
       "2017-07-06 18:10:57  1174619866              1       0.0      0.000   \n",
       "2017-07-05 17:50:32  1173071844              1    4977.9      2.469   \n",
       "2017-07-01 16:30:48  1173071487              1    2889.1      2.586   \n",
       "\n",
       "                    moving_time  avg_hr  type  elevation_gain          latlng  \n",
       "date                                                                           \n",
       "2017-07-09 17:52:52    01:45:02   119.1  Ride             0.0            None  \n",
       "2017-07-07 18:00:38    00:32:20     NaN   Run            21.9  (55.95, -3.19)  \n",
       "2017-07-06 18:10:57    00:42:11   105.4  Ride             0.0            None  \n",
       "2017-07-05 17:50:32    00:33:36   148.3   Run            20.5  (55.95, -3.19)  \n",
       "2017-07-01 16:30:48    00:18:37   160.1   Run            20.4  (55.95, -3.19)  "
      ]
     },
     "execution_count": 39,
     "metadata": {},
     "output_type": "execute_result"
    }
   ],
   "source": [
    "# Read csv\n",
    "df = pd.read_pickle('strava_data.p')\n",
    "df.head()"
   ]
  },
  {
   "cell_type": "markdown",
   "metadata": {},
   "source": [
    "### Seperate Ride and Run data"
   ]
  },
  {
   "cell_type": "code",
   "execution_count": 3,
   "metadata": {
    "collapsed": true
   },
   "outputs": [],
   "source": [
    "df_run = df[df['type'] == 'Run']\n",
    "df_ride = df[df['type'] == 'Ride']"
   ]
  },
  {
   "cell_type": "code",
   "execution_count": 4,
   "metadata": {},
   "outputs": [
    {
     "name": "stdout",
     "output_type": "stream",
     "text": [
      "Total Running Distance: 928.77 km\n",
      "Total Running Time: 4 days 00:46:38 \n"
     ]
    }
   ],
   "source": [
    "print('Total Running Distance: {:.2f} km'.format(df_run.distance.sum()/1000))\n",
    "print('Total Running Time: {} '.format(df_run.moving_time.sum()))"
   ]
  },
  {
   "cell_type": "code",
   "execution_count": 5,
   "metadata": {},
   "outputs": [
    {
     "name": "stdout",
     "output_type": "stream",
     "text": [
      "Total Cycling Time: 2 days 15:05:54\n"
     ]
    }
   ],
   "source": [
    "print('Total Cycling Time: {}'.format(df_ride.moving_time.sum()))"
   ]
  },
  {
   "cell_type": "markdown",
   "metadata": {
    "collapsed": true
   },
   "source": [
    "#### New column - Pace (df_run)"
   ]
  },
  {
   "cell_type": "code",
   "execution_count": 6,
   "metadata": {
    "scrolled": false
   },
   "outputs": [
    {
     "name": "stderr",
     "output_type": "stream",
     "text": [
      "C:\\Users\\brian1123\\Anaconda3\\lib\\site-packages\\ipykernel\\__main__.py:1: SettingWithCopyWarning: \n",
      "A value is trying to be set on a copy of a slice from a DataFrame.\n",
      "Try using .loc[row_indexer,col_indexer] = value instead\n",
      "\n",
      "See the caveats in the documentation: http://pandas.pydata.org/pandas-docs/stable/indexing.html#indexing-view-versus-copy\n",
      "  if __name__ == '__main__':\n"
     ]
    },
    {
     "data": {
      "text/html": [
       "<div>\n",
       "<style>\n",
       "    .dataframe thead tr:only-child th {\n",
       "        text-align: right;\n",
       "    }\n",
       "\n",
       "    .dataframe thead th {\n",
       "        text-align: left;\n",
       "    }\n",
       "\n",
       "    .dataframe tbody tr th {\n",
       "        vertical-align: top;\n",
       "    }\n",
       "</style>\n",
       "<table border=\"1\" class=\"dataframe\">\n",
       "  <thead>\n",
       "    <tr style=\"text-align: right;\">\n",
       "      <th></th>\n",
       "      <th>id</th>\n",
       "      <th>athlete_count</th>\n",
       "      <th>distance</th>\n",
       "      <th>avg_speed</th>\n",
       "      <th>moving_time</th>\n",
       "      <th>avg_hr</th>\n",
       "      <th>type</th>\n",
       "      <th>elevation_gain</th>\n",
       "      <th>latlng</th>\n",
       "      <th>pace</th>\n",
       "    </tr>\n",
       "    <tr>\n",
       "      <th>date</th>\n",
       "      <th></th>\n",
       "      <th></th>\n",
       "      <th></th>\n",
       "      <th></th>\n",
       "      <th></th>\n",
       "      <th></th>\n",
       "      <th></th>\n",
       "      <th></th>\n",
       "      <th></th>\n",
       "      <th></th>\n",
       "    </tr>\n",
       "  </thead>\n",
       "  <tbody>\n",
       "    <tr>\n",
       "      <th>2017-07-07 18:00:38</th>\n",
       "      <td>1176094669</td>\n",
       "      <td>1</td>\n",
       "      <td>5022.2</td>\n",
       "      <td>2.589</td>\n",
       "      <td>00:32:20</td>\n",
       "      <td>NaN</td>\n",
       "      <td>Run</td>\n",
       "      <td>21.9</td>\n",
       "      <td>(55.95, -3.19)</td>\n",
       "      <td>6.437492</td>\n",
       "    </tr>\n",
       "    <tr>\n",
       "      <th>2017-07-05 17:50:32</th>\n",
       "      <td>1173071844</td>\n",
       "      <td>1</td>\n",
       "      <td>4977.9</td>\n",
       "      <td>2.469</td>\n",
       "      <td>00:33:36</td>\n",
       "      <td>148.3</td>\n",
       "      <td>Run</td>\n",
       "      <td>20.5</td>\n",
       "      <td>(55.95, -3.19)</td>\n",
       "      <td>6.750371</td>\n",
       "    </tr>\n",
       "    <tr>\n",
       "      <th>2017-07-01 16:30:48</th>\n",
       "      <td>1173071487</td>\n",
       "      <td>1</td>\n",
       "      <td>2889.1</td>\n",
       "      <td>2.586</td>\n",
       "      <td>00:18:37</td>\n",
       "      <td>160.1</td>\n",
       "      <td>Run</td>\n",
       "      <td>20.4</td>\n",
       "      <td>(55.95, -3.19)</td>\n",
       "      <td>6.444960</td>\n",
       "    </tr>\n",
       "    <tr>\n",
       "      <th>2017-06-28 19:55:15</th>\n",
       "      <td>1163118846</td>\n",
       "      <td>1</td>\n",
       "      <td>414.8</td>\n",
       "      <td>2.942</td>\n",
       "      <td>00:02:21</td>\n",
       "      <td>NaN</td>\n",
       "      <td>Run</td>\n",
       "      <td>0.0</td>\n",
       "      <td>(55.95, -3.19)</td>\n",
       "      <td>5.665080</td>\n",
       "    </tr>\n",
       "    <tr>\n",
       "      <th>2017-06-28 19:30:59</th>\n",
       "      <td>1163118747</td>\n",
       "      <td>1</td>\n",
       "      <td>2732.6</td>\n",
       "      <td>2.598</td>\n",
       "      <td>00:17:32</td>\n",
       "      <td>NaN</td>\n",
       "      <td>Run</td>\n",
       "      <td>75.0</td>\n",
       "      <td>(55.96, -3.16)</td>\n",
       "      <td>6.415191</td>\n",
       "    </tr>\n",
       "  </tbody>\n",
       "</table>\n",
       "</div>"
      ],
      "text/plain": [
       "                             id  athlete_count  distance  avg_speed  \\\n",
       "date                                                                  \n",
       "2017-07-07 18:00:38  1176094669              1    5022.2      2.589   \n",
       "2017-07-05 17:50:32  1173071844              1    4977.9      2.469   \n",
       "2017-07-01 16:30:48  1173071487              1    2889.1      2.586   \n",
       "2017-06-28 19:55:15  1163118846              1     414.8      2.942   \n",
       "2017-06-28 19:30:59  1163118747              1    2732.6      2.598   \n",
       "\n",
       "                    moving_time  avg_hr type  elevation_gain          latlng  \\\n",
       "date                                                                           \n",
       "2017-07-07 18:00:38    00:32:20     NaN  Run            21.9  (55.95, -3.19)   \n",
       "2017-07-05 17:50:32    00:33:36   148.3  Run            20.5  (55.95, -3.19)   \n",
       "2017-07-01 16:30:48    00:18:37   160.1  Run            20.4  (55.95, -3.19)   \n",
       "2017-06-28 19:55:15    00:02:21     NaN  Run             0.0  (55.95, -3.19)   \n",
       "2017-06-28 19:30:59    00:17:32     NaN  Run            75.0  (55.96, -3.16)   \n",
       "\n",
       "                         pace  \n",
       "date                           \n",
       "2017-07-07 18:00:38  6.437492  \n",
       "2017-07-05 17:50:32  6.750371  \n",
       "2017-07-01 16:30:48  6.444960  \n",
       "2017-06-28 19:55:15  5.665080  \n",
       "2017-06-28 19:30:59  6.415191  "
      ]
     },
     "execution_count": 6,
     "metadata": {},
     "output_type": "execute_result"
    }
   ],
   "source": [
    "df_run['pace'] = df_run['avg_speed'].apply(utilities.speed_to_pace)\n",
    "df_run.head()"
   ]
  },
  {
   "cell_type": "code",
   "execution_count": 38,
   "metadata": {},
   "outputs": [
    {
     "name": "stdout",
     "output_type": "stream",
     "text": [
      "Proportion of Null HR: 0.35\n"
     ]
    }
   ],
   "source": [
    "# df_run.avg_hr.isnull().sum()\n",
    "prop_hr_null = df_run.avg_hr.count()/len(df_run.avg_hr)\n",
    "print('Proportion of Null HR: {:.2f}'.format(prop_hr_null))"
   ]
  },
  {
   "cell_type": "markdown",
   "metadata": {},
   "source": [
    "#### Drop outlier to for training data"
   ]
  },
  {
   "cell_type": "code",
   "execution_count": 7,
   "metadata": {},
   "outputs": [
    {
     "name": "stdout",
     "output_type": "stream",
     "text": [
      "      athlete_count   distance  avg_speed  avg_hr  elevation_gain      pace\n",
      "0.05            1.0   1960.730    2.27575  141.68           0.000  5.405860\n",
      "0.95            2.0  14106.145    3.08310  171.74         170.845  7.326132\n"
     ]
    }
   ],
   "source": [
    "# percentiles\n",
    "low = 0.05\n",
    "high = 0.95\n",
    "quant_df_run = df_run.quantile([low, high])\n",
    "print(quant_df_run)"
   ]
  },
  {
   "cell_type": "code",
   "execution_count": 9,
   "metadata": {
    "collapsed": true
   },
   "outputs": [],
   "source": [
    "# filter quantiles (pace)\n",
    "\n",
    "def outlier_pace(x):\n",
    "    cond_low = x > quant_df_run['pace'].loc[low]\n",
    "    cond_high = x < quant_df_run['pace'].loc[high]\n",
    "    output = cond_low and cond_high\n",
    "    return not output\n",
    "\n",
    "# filter quantiles (avg_hr)\n",
    "\n",
    "def outlier_avg_hr(x):\n",
    "    cond_low = x > quant_df_run['avg_hr'].loc[low]\n",
    "    cond_high = x < quant_df_run['avg_hr'].loc[high]\n",
    "    output = cond_low and cond_high\n",
    "    return not output\n",
    "    \n",
    "# five_to_ninety_five(5)"
   ]
  },
  {
   "cell_type": "code",
   "execution_count": 10,
   "metadata": {
    "collapsed": true
   },
   "outputs": [
    {
     "name": "stderr",
     "output_type": "stream",
     "text": [
      "C:\\Users\\brian1123\\Anaconda3\\lib\\site-packages\\ipykernel\\__main__.py:1: SettingWithCopyWarning: \n",
      "A value is trying to be set on a copy of a slice from a DataFrame.\n",
      "Try using .loc[row_indexer,col_indexer] = value instead\n",
      "\n",
      "See the caveats in the documentation: http://pandas.pydata.org/pandas-docs/stable/indexing.html#indexing-view-versus-copy\n",
      "  if __name__ == '__main__':\n",
      "C:\\Users\\brian1123\\Anaconda3\\lib\\site-packages\\ipykernel\\__main__.py:2: SettingWithCopyWarning: \n",
      "A value is trying to be set on a copy of a slice from a DataFrame.\n",
      "Try using .loc[row_indexer,col_indexer] = value instead\n",
      "\n",
      "See the caveats in the documentation: http://pandas.pydata.org/pandas-docs/stable/indexing.html#indexing-view-versus-copy\n",
      "  from ipykernel import kernelapp as app\n"
     ]
    },
    {
     "data": {
      "text/html": [
       "<div>\n",
       "<style>\n",
       "    .dataframe thead tr:only-child th {\n",
       "        text-align: right;\n",
       "    }\n",
       "\n",
       "    .dataframe thead th {\n",
       "        text-align: left;\n",
       "    }\n",
       "\n",
       "    .dataframe tbody tr th {\n",
       "        vertical-align: top;\n",
       "    }\n",
       "</style>\n",
       "<table border=\"1\" class=\"dataframe\">\n",
       "  <thead>\n",
       "    <tr style=\"text-align: right;\">\n",
       "      <th></th>\n",
       "      <th>id</th>\n",
       "      <th>athlete_count</th>\n",
       "      <th>distance</th>\n",
       "      <th>avg_speed</th>\n",
       "      <th>moving_time</th>\n",
       "      <th>avg_hr</th>\n",
       "      <th>type</th>\n",
       "      <th>elevation_gain</th>\n",
       "      <th>latlng</th>\n",
       "      <th>pace</th>\n",
       "      <th>outlier_pace</th>\n",
       "      <th>outlier_avg_hr</th>\n",
       "    </tr>\n",
       "    <tr>\n",
       "      <th>date</th>\n",
       "      <th></th>\n",
       "      <th></th>\n",
       "      <th></th>\n",
       "      <th></th>\n",
       "      <th></th>\n",
       "      <th></th>\n",
       "      <th></th>\n",
       "      <th></th>\n",
       "      <th></th>\n",
       "      <th></th>\n",
       "      <th></th>\n",
       "      <th></th>\n",
       "    </tr>\n",
       "  </thead>\n",
       "  <tbody>\n",
       "    <tr>\n",
       "      <th>2017-07-07 18:00:38</th>\n",
       "      <td>1176094669</td>\n",
       "      <td>1</td>\n",
       "      <td>5022.2</td>\n",
       "      <td>2.589</td>\n",
       "      <td>00:32:20</td>\n",
       "      <td>NaN</td>\n",
       "      <td>Run</td>\n",
       "      <td>21.9</td>\n",
       "      <td>(55.95, -3.19)</td>\n",
       "      <td>6.437492</td>\n",
       "      <td>False</td>\n",
       "      <td>True</td>\n",
       "    </tr>\n",
       "    <tr>\n",
       "      <th>2017-07-05 17:50:32</th>\n",
       "      <td>1173071844</td>\n",
       "      <td>1</td>\n",
       "      <td>4977.9</td>\n",
       "      <td>2.469</td>\n",
       "      <td>00:33:36</td>\n",
       "      <td>148.3</td>\n",
       "      <td>Run</td>\n",
       "      <td>20.5</td>\n",
       "      <td>(55.95, -3.19)</td>\n",
       "      <td>6.750371</td>\n",
       "      <td>False</td>\n",
       "      <td>False</td>\n",
       "    </tr>\n",
       "    <tr>\n",
       "      <th>2017-07-01 16:30:48</th>\n",
       "      <td>1173071487</td>\n",
       "      <td>1</td>\n",
       "      <td>2889.1</td>\n",
       "      <td>2.586</td>\n",
       "      <td>00:18:37</td>\n",
       "      <td>160.1</td>\n",
       "      <td>Run</td>\n",
       "      <td>20.4</td>\n",
       "      <td>(55.95, -3.19)</td>\n",
       "      <td>6.444960</td>\n",
       "      <td>False</td>\n",
       "      <td>False</td>\n",
       "    </tr>\n",
       "    <tr>\n",
       "      <th>2017-06-28 19:55:15</th>\n",
       "      <td>1163118846</td>\n",
       "      <td>1</td>\n",
       "      <td>414.8</td>\n",
       "      <td>2.942</td>\n",
       "      <td>00:02:21</td>\n",
       "      <td>NaN</td>\n",
       "      <td>Run</td>\n",
       "      <td>0.0</td>\n",
       "      <td>(55.95, -3.19)</td>\n",
       "      <td>5.665080</td>\n",
       "      <td>False</td>\n",
       "      <td>True</td>\n",
       "    </tr>\n",
       "    <tr>\n",
       "      <th>2017-06-28 19:30:59</th>\n",
       "      <td>1163118747</td>\n",
       "      <td>1</td>\n",
       "      <td>2732.6</td>\n",
       "      <td>2.598</td>\n",
       "      <td>00:17:32</td>\n",
       "      <td>NaN</td>\n",
       "      <td>Run</td>\n",
       "      <td>75.0</td>\n",
       "      <td>(55.96, -3.16)</td>\n",
       "      <td>6.415191</td>\n",
       "      <td>False</td>\n",
       "      <td>True</td>\n",
       "    </tr>\n",
       "  </tbody>\n",
       "</table>\n",
       "</div>"
      ],
      "text/plain": [
       "                             id  athlete_count  distance  avg_speed  \\\n",
       "date                                                                  \n",
       "2017-07-07 18:00:38  1176094669              1    5022.2      2.589   \n",
       "2017-07-05 17:50:32  1173071844              1    4977.9      2.469   \n",
       "2017-07-01 16:30:48  1173071487              1    2889.1      2.586   \n",
       "2017-06-28 19:55:15  1163118846              1     414.8      2.942   \n",
       "2017-06-28 19:30:59  1163118747              1    2732.6      2.598   \n",
       "\n",
       "                    moving_time  avg_hr type  elevation_gain          latlng  \\\n",
       "date                                                                           \n",
       "2017-07-07 18:00:38    00:32:20     NaN  Run            21.9  (55.95, -3.19)   \n",
       "2017-07-05 17:50:32    00:33:36   148.3  Run            20.5  (55.95, -3.19)   \n",
       "2017-07-01 16:30:48    00:18:37   160.1  Run            20.4  (55.95, -3.19)   \n",
       "2017-06-28 19:55:15    00:02:21     NaN  Run             0.0  (55.95, -3.19)   \n",
       "2017-06-28 19:30:59    00:17:32     NaN  Run            75.0  (55.96, -3.16)   \n",
       "\n",
       "                         pace  outlier_pace  outlier_avg_hr  \n",
       "date                                                         \n",
       "2017-07-07 18:00:38  6.437492         False            True  \n",
       "2017-07-05 17:50:32  6.750371         False           False  \n",
       "2017-07-01 16:30:48  6.444960         False           False  \n",
       "2017-06-28 19:55:15  5.665080         False            True  \n",
       "2017-06-28 19:30:59  6.415191         False            True  "
      ]
     },
     "execution_count": 10,
     "metadata": {},
     "output_type": "execute_result"
    }
   ],
   "source": [
    "df_run['outlier_pace'] = df_run['pace'].apply(outlier_pace)\n",
    "df_run['outlier_avg_hr'] = df_run['avg_hr'].apply(outlier_avg_hr)"
   ]
  },
  {
   "cell_type": "code",
   "execution_count": 11,
   "metadata": {
    "collapsed": true
   },
   "outputs": [],
   "source": [
    "# Filter outliers and remove mask\n",
    "\n",
    "filt_df_run = df_run[\n",
    "    (df_run['outlier_avg_hr'] == False) \n",
    "    & (df_run['outlier_pace'] == False)].drop(['outlier_avg_hr', 'outlier_pace'],axis=1)"
   ]
  },
  {
   "cell_type": "code",
   "execution_count": 36,
   "metadata": {},
   "outputs": [
    {
     "name": "stdout",
     "output_type": "stream",
     "text": [
      "Proportion of data filtered: 0.30\n"
     ]
    }
   ],
   "source": [
    "prop_filt = len(filt_df_run) / len(df_run)\n",
    "print('Proportion of data filtered: {:.2f}'.format(prop_filt))"
   ]
  },
  {
   "cell_type": "code",
   "execution_count": 12,
   "metadata": {
    "collapsed": true
   },
   "outputs": [],
   "source": [
    "# Convert moving_time to minutes\n",
    "\n",
    "def time_to_mins(x):\n",
    "    return x.seconds/60\n",
    "\n",
    "filt_df_run['duration'] = filt_df_run['moving_time'].apply(time_to_mins)\n",
    "filt_df_run = filt_df_run.drop('moving_time', axis=1)"
   ]
  },
  {
   "cell_type": "markdown",
   "metadata": {},
   "source": [
    "## Initial Plotting"
   ]
  },
  {
   "cell_type": "code",
   "execution_count": 19,
   "metadata": {
    "collapsed": true
   },
   "outputs": [],
   "source": [
    "plt_run = filt_df_run.dropna(subset=['avg_hr'])"
   ]
  },
  {
   "cell_type": "code",
   "execution_count": 20,
   "metadata": {
    "scrolled": true
   },
   "outputs": [
    {
     "data": {
      "text/plain": [
       "id                 object\n",
       "athlete_count       int64\n",
       "distance          float64\n",
       "avg_speed         float64\n",
       "avg_hr            float64\n",
       "type               object\n",
       "elevation_gain    float64\n",
       "latlng             object\n",
       "pace              float64\n",
       "duration          float64\n",
       "dtype: object"
      ]
     },
     "execution_count": 20,
     "metadata": {},
     "output_type": "execute_result"
    }
   ],
   "source": [
    "plt_run.dtypes"
   ]
  },
  {
   "cell_type": "code",
   "execution_count": 21,
   "metadata": {
    "collapsed": true
   },
   "outputs": [],
   "source": [
    "# save only int and float for pairplot\n",
    "plt_pairplot = plt_run.drop(['id', 'type', 'latlng', 'avg_speed', 'elevation_gain'], axis=1)"
   ]
  },
  {
   "cell_type": "code",
   "execution_count": 22,
   "metadata": {
    "scrolled": true
   },
   "outputs": [
    {
     "data": {
      "text/plain": [
       "<seaborn.axisgrid.PairGrid at 0x25da55ce208>"
      ]
     },
     "execution_count": 22,
     "metadata": {},
     "output_type": "execute_result"
    },
    {
     "data": {
      "image/png": "[encoded data removed]",
      "text/plain": [
       "<matplotlib.figure.Figure at 0x25da55ce470>"
      ]
     },
     "metadata": {},
     "output_type": "display_data"
    }
   ],
   "source": [
    "sns.pairplot(plt_pairplot)"
   ]
  }
 ],
 "metadata": {
  "kernelspec": {
   "display_name": "Python [default]",
   "language": "python",
   "name": "python3"
  },
  "language_info": {
   "codemirror_mode": {
    "name": "ipython",
    "version": 3
   },
   "file_extension": ".py",
   "mimetype": "text/x-python",
   "name": "python",
   "nbconvert_exporter": "python",
   "pygments_lexer": "ipython3",
   "version": "3.5.3"
  }
 },
 "nbformat": 4,
 "nbformat_minor": 2
}
