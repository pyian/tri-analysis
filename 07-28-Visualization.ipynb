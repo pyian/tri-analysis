{
 "cells": [
  {
   "cell_type": "code",
   "execution_count": 1,
   "metadata": {
    "collapsed": true
   },
   "outputs": [],
   "source": [
    "%matplotlib inline\n",
    "\n",
    "import matplotlib.pyplot as plt\n",
    "import numpy as np\n",
    "import pandas as pd\n",
    "import pickle\n",
    "import seaborn as sns\n",
    "\n",
    "sns.set_style('white')\n",
    "\n",
    "# df_run\n",
    "df = pd.read_pickle('df_run.p')"
   ]
  },
  {
   "cell_type": "code",
   "execution_count": 2,
   "metadata": {},
   "outputs": [
    {
     "data": {
      "text/plain": [
       "(129, 11)"
      ]
     },
     "execution_count": 2,
     "metadata": {},
     "output_type": "execute_result"
    }
   ],
   "source": [
    "df.shape"
   ]
  },
  {
   "cell_type": "code",
   "execution_count": 3,
   "metadata": {},
   "outputs": [
    {
     "data": {
      "text/html": [
       "<div>\n",
       "<style>\n",
       "    .dataframe thead tr:only-child th {\n",
       "        text-align: right;\n",
       "    }\n",
       "\n",
       "    .dataframe thead th {\n",
       "        text-align: left;\n",
       "    }\n",
       "\n",
       "    .dataframe tbody tr th {\n",
       "        vertical-align: top;\n",
       "    }\n",
       "</style>\n",
       "<table border=\"1\" class=\"dataframe\">\n",
       "  <thead>\n",
       "    <tr style=\"text-align: right;\">\n",
       "      <th></th>\n",
       "      <th>id</th>\n",
       "      <th>athlete_count</th>\n",
       "      <th>distance</th>\n",
       "      <th>avg_speed</th>\n",
       "      <th>avg_hr</th>\n",
       "      <th>type</th>\n",
       "      <th>elevation_gain</th>\n",
       "      <th>latlng</th>\n",
       "      <th>pace</th>\n",
       "      <th>duration</th>\n",
       "      <th>zone</th>\n",
       "    </tr>\n",
       "    <tr>\n",
       "      <th>date</th>\n",
       "      <th></th>\n",
       "      <th></th>\n",
       "      <th></th>\n",
       "      <th></th>\n",
       "      <th></th>\n",
       "      <th></th>\n",
       "      <th></th>\n",
       "      <th></th>\n",
       "      <th></th>\n",
       "      <th></th>\n",
       "      <th></th>\n",
       "    </tr>\n",
       "  </thead>\n",
       "  <tbody>\n",
       "    <tr>\n",
       "      <th>2017-07-07 18:00:38</th>\n",
       "      <td>1176094669</td>\n",
       "      <td>1</td>\n",
       "      <td>5022.2</td>\n",
       "      <td>2.589</td>\n",
       "      <td>NaN</td>\n",
       "      <td>Run</td>\n",
       "      <td>21.9</td>\n",
       "      <td>(55.95, -3.19)</td>\n",
       "      <td>6.437492</td>\n",
       "      <td>32.333333</td>\n",
       "      <td>NaN</td>\n",
       "    </tr>\n",
       "    <tr>\n",
       "      <th>2017-07-05 17:50:32</th>\n",
       "      <td>1173071844</td>\n",
       "      <td>1</td>\n",
       "      <td>4977.9</td>\n",
       "      <td>2.469</td>\n",
       "      <td>148.3</td>\n",
       "      <td>Run</td>\n",
       "      <td>20.5</td>\n",
       "      <td>(55.95, -3.19)</td>\n",
       "      <td>6.750371</td>\n",
       "      <td>33.600000</td>\n",
       "      <td>2.0</td>\n",
       "    </tr>\n",
       "    <tr>\n",
       "      <th>2017-07-01 16:30:48</th>\n",
       "      <td>1173071487</td>\n",
       "      <td>1</td>\n",
       "      <td>2889.1</td>\n",
       "      <td>2.586</td>\n",
       "      <td>160.1</td>\n",
       "      <td>Run</td>\n",
       "      <td>20.4</td>\n",
       "      <td>(55.95, -3.19)</td>\n",
       "      <td>6.444960</td>\n",
       "      <td>18.616667</td>\n",
       "      <td>3.0</td>\n",
       "    </tr>\n",
       "    <tr>\n",
       "      <th>2017-06-28 19:55:15</th>\n",
       "      <td>1163118846</td>\n",
       "      <td>1</td>\n",
       "      <td>414.8</td>\n",
       "      <td>2.942</td>\n",
       "      <td>NaN</td>\n",
       "      <td>Run</td>\n",
       "      <td>0.0</td>\n",
       "      <td>(55.95, -3.19)</td>\n",
       "      <td>5.665080</td>\n",
       "      <td>2.350000</td>\n",
       "      <td>NaN</td>\n",
       "    </tr>\n",
       "    <tr>\n",
       "      <th>2017-06-28 19:30:59</th>\n",
       "      <td>1163118747</td>\n",
       "      <td>1</td>\n",
       "      <td>2732.6</td>\n",
       "      <td>2.598</td>\n",
       "      <td>NaN</td>\n",
       "      <td>Run</td>\n",
       "      <td>75.0</td>\n",
       "      <td>(55.96, -3.16)</td>\n",
       "      <td>6.415191</td>\n",
       "      <td>17.533333</td>\n",
       "      <td>NaN</td>\n",
       "    </tr>\n",
       "  </tbody>\n",
       "</table>\n",
       "</div>"
      ],
      "text/plain": [
       "                             id  athlete_count  distance  avg_speed  avg_hr  \\\n",
       "date                                                                          \n",
       "2017-07-07 18:00:38  1176094669              1    5022.2      2.589     NaN   \n",
       "2017-07-05 17:50:32  1173071844              1    4977.9      2.469   148.3   \n",
       "2017-07-01 16:30:48  1173071487              1    2889.1      2.586   160.1   \n",
       "2017-06-28 19:55:15  1163118846              1     414.8      2.942     NaN   \n",
       "2017-06-28 19:30:59  1163118747              1    2732.6      2.598     NaN   \n",
       "\n",
       "                    type  elevation_gain          latlng      pace   duration  \\\n",
       "date                                                                            \n",
       "2017-07-07 18:00:38  Run            21.9  (55.95, -3.19)  6.437492  32.333333   \n",
       "2017-07-05 17:50:32  Run            20.5  (55.95, -3.19)  6.750371  33.600000   \n",
       "2017-07-01 16:30:48  Run            20.4  (55.95, -3.19)  6.444960  18.616667   \n",
       "2017-06-28 19:55:15  Run             0.0  (55.95, -3.19)  5.665080   2.350000   \n",
       "2017-06-28 19:30:59  Run            75.0  (55.96, -3.16)  6.415191  17.533333   \n",
       "\n",
       "                     zone  \n",
       "date                       \n",
       "2017-07-07 18:00:38   NaN  \n",
       "2017-07-05 17:50:32   2.0  \n",
       "2017-07-01 16:30:48   3.0  \n",
       "2017-06-28 19:55:15   NaN  \n",
       "2017-06-28 19:30:59   NaN  "
      ]
     },
     "execution_count": 3,
     "metadata": {},
     "output_type": "execute_result"
    }
   ],
   "source": [
    "df.head()"
   ]
  },
  {
   "cell_type": "code",
   "execution_count": 5,
   "metadata": {},
   "outputs": [
    {
     "data": {
      "text/plain": [
       "<matplotlib.axes._subplots.AxesSubplot at 0x18489e72080>"
      ]
     },
     "execution_count": 5,
     "metadata": {},
     "output_type": "execute_result"
    },
    {
     "data": {
      "image/png": "[encoded data removed]",
      "text/plain": [
       "<matplotlib.figure.Figure at 0x18489e1bda0>"
      ]
     },
     "metadata": {},
     "output_type": "display_data"
    }
   ],
   "source": [
    "# plot distance vs time, date as alpha\n",
    "df.plot.scatter(x='distance', y='duration')"
   ]
  },
  {
   "cell_type": "code",
   "execution_count": 12,
   "metadata": {},
   "outputs": [],
   "source": [
    "for row in df.iterrows():\n",
    "    a = row"
   ]
  },
  {
   "cell_type": "code",
   "execution_count": 66,
   "metadata": {},
   "outputs": [
    {
     "name": "stdout",
     "output_type": "stream",
     "text": [
      "2016 3 4\n"
     ]
    }
   ],
   "source": [
    "year_min = df.index.min().year\n",
    "month_min = df.index.min().month\n",
    "day_min = df.index.min().day\n",
    "\n",
    "print('{} {} {}'.format(year_min, month_min, day_min))"
   ]
  },
  {
   "cell_type": "code",
   "execution_count": 68,
   "metadata": {},
   "outputs": [
    {
     "name": "stdout",
     "output_type": "stream",
     "text": [
      "2017 7 7\n"
     ]
    }
   ],
   "source": [
    "year_max = df.index.max().year\n",
    "month_max = df.index.max().month\n",
    "day_max = df.index.max().day\n",
    "\n",
    "print('{} {} {}'.format(year_max, month_max, day_max))"
   ]
  },
  {
   "cell_type": "code",
   "execution_count": 69,
   "metadata": {
    "collapsed": true
   },
   "outputs": [],
   "source": [
    "# Find time range\n",
    "# 1. Convert to seconds\n",
    "time_min = year_min * 31536000 + month_min * 2.592e+6 + day_min * 24 * 60 * 60\n",
    "time_max = year_max * 31536000 + month_max * 2.592e+6 + day_max * 24 * 60 * 60"
   ]
  },
  {
   "cell_type": "code",
   "execution_count": 71,
   "metadata": {},
   "outputs": [
    {
     "data": {
      "text/plain": [
       "42163200.0"
      ]
     },
     "execution_count": 71,
     "metadata": {},
     "output_type": "execute_result"
    }
   ],
   "source": [
    "time_range = time_max - time_min\n",
    "time_range"
   ]
  },
  {
   "cell_type": "code",
   "execution_count": 72,
   "metadata": {
    "collapsed": true
   },
   "outputs": [],
   "source": [
    "def convert_to_seconds(datetime):\n",
    "    \n",
    "    year = datetime.year\n",
    "    month = datetime.month\n",
    "    day = datetime.day\n",
    "    \n",
    "    time = year * 31536000 + month * 2.592e+6 + day * 24 * 60 * 60\n",
    "    return time - time_min"
   ]
  },
  {
   "cell_type": "code",
   "execution_count": 90,
   "metadata": {},
   "outputs": [
    {
     "name": "stderr",
     "output_type": "stream",
     "text": [
      "C:\\Users\\brian1123\\Anaconda3\\lib\\site-packages\\IPython\\core\\interactiveshell.py:2862: FutureWarning: to_datetime is deprecated. Use self.to_pydatetime()\n",
      "  exec(code_obj, self.user_global_ns, self.user_ns)\n"
     ]
    },
    {
     "data": {
      "text/plain": [
       "(0, 60)"
      ]
     },
     "execution_count": 90,
     "metadata": {},
     "output_type": "execute_result"
    },
    {
     "data": {
      "image/png": "[encoded data removed]",
      "text/plain": [
       "<matplotlib.figure.Figure at 0x18496832908>"
      ]
     },
     "metadata": {},
     "output_type": "display_data"
    }
   ],
   "source": [
    "for row in df.iterrows():\n",
    "    alpha = 1 - convert_to_seconds(row[0].to_datetime()) / time_range\n",
    "    plt.scatter(x=row[1]['distance'], y=row[1]['duration'], alpha=alpha, color='blue')\n",
    "\n",
    "# not showing very well"
   ]
  },
  {
   "cell_type": "code",
   "execution_count": 98,
   "metadata": {},
   "outputs": [
    {
     "ename": "TypeError",
     "evalue": "'Timestamp' object is not subscriptable",
     "output_type": "error",
     "traceback": [
      "\u001b[1;31m---------------------------------------------------------------------------\u001b[0m",
      "\u001b[1;31mTypeError\u001b[0m                                 Traceback (most recent call last)",
      "\u001b[1;32m<ipython-input-98-ae14fff34fd4>\u001b[0m in \u001b[0;36m<module>\u001b[1;34m()\u001b[0m\n\u001b[1;32m----> 1\u001b[1;33m \u001b[0mdf\u001b[0m\u001b[1;33m[\u001b[0m\u001b[1;34m'Month'\u001b[0m\u001b[1;33m]\u001b[0m\u001b[1;33m=\u001b[0m\u001b[0mdf\u001b[0m\u001b[1;33m[\u001b[0m\u001b[1;34m'Date'\u001b[0m\u001b[1;33m]\u001b[0m\u001b[1;33m.\u001b[0m\u001b[0mapply\u001b[0m\u001b[1;33m(\u001b[0m\u001b[1;32mlambda\u001b[0m \u001b[0mx\u001b[0m\u001b[1;33m:\u001b[0m \u001b[0mx\u001b[0m\u001b[1;33m[\u001b[0m\u001b[1;33m:\u001b[0m\u001b[1;36m7\u001b[0m\u001b[1;33m]\u001b[0m\u001b[1;33m)\u001b[0m\u001b[1;33m\u001b[0m\u001b[0m\n\u001b[0m",
      "\u001b[1;32m~\\Anaconda3\\lib\\site-packages\\pandas\\core\\series.py\u001b[0m in \u001b[0;36mapply\u001b[1;34m(self, func, convert_dtype, args, **kwds)\u001b[0m\n\u001b[0;32m   2353\u001b[0m             \u001b[1;32melse\u001b[0m\u001b[1;33m:\u001b[0m\u001b[1;33m\u001b[0m\u001b[0m\n\u001b[0;32m   2354\u001b[0m                 \u001b[0mvalues\u001b[0m \u001b[1;33m=\u001b[0m \u001b[0mself\u001b[0m\u001b[1;33m.\u001b[0m\u001b[0masobject\u001b[0m\u001b[1;33m\u001b[0m\u001b[0m\n\u001b[1;32m-> 2355\u001b[1;33m                 \u001b[0mmapped\u001b[0m \u001b[1;33m=\u001b[0m \u001b[0mlib\u001b[0m\u001b[1;33m.\u001b[0m\u001b[0mmap_infer\u001b[0m\u001b[1;33m(\u001b[0m\u001b[0mvalues\u001b[0m\u001b[1;33m,\u001b[0m \u001b[0mf\u001b[0m\u001b[1;33m,\u001b[0m \u001b[0mconvert\u001b[0m\u001b[1;33m=\u001b[0m\u001b[0mconvert_dtype\u001b[0m\u001b[1;33m)\u001b[0m\u001b[1;33m\u001b[0m\u001b[0m\n\u001b[0m\u001b[0;32m   2356\u001b[0m \u001b[1;33m\u001b[0m\u001b[0m\n\u001b[0;32m   2357\u001b[0m         \u001b[1;32mif\u001b[0m \u001b[0mlen\u001b[0m\u001b[1;33m(\u001b[0m\u001b[0mmapped\u001b[0m\u001b[1;33m)\u001b[0m \u001b[1;32mand\u001b[0m \u001b[0misinstance\u001b[0m\u001b[1;33m(\u001b[0m\u001b[0mmapped\u001b[0m\u001b[1;33m[\u001b[0m\u001b[1;36m0\u001b[0m\u001b[1;33m]\u001b[0m\u001b[1;33m,\u001b[0m \u001b[0mSeries\u001b[0m\u001b[1;33m)\u001b[0m\u001b[1;33m:\u001b[0m\u001b[1;33m\u001b[0m\u001b[0m\n",
      "\u001b[1;32mpandas\\_libs\\src\\inference.pyx\u001b[0m in \u001b[0;36mpandas._libs.lib.map_infer (pandas\\_libs\\lib.c:66645)\u001b[1;34m()\u001b[0m\n",
      "\u001b[1;32m<ipython-input-98-ae14fff34fd4>\u001b[0m in \u001b[0;36m<lambda>\u001b[1;34m(x)\u001b[0m\n\u001b[1;32m----> 1\u001b[1;33m \u001b[0mdf\u001b[0m\u001b[1;33m[\u001b[0m\u001b[1;34m'Month'\u001b[0m\u001b[1;33m]\u001b[0m\u001b[1;33m=\u001b[0m\u001b[0mdf\u001b[0m\u001b[1;33m[\u001b[0m\u001b[1;34m'Date'\u001b[0m\u001b[1;33m]\u001b[0m\u001b[1;33m.\u001b[0m\u001b[0mapply\u001b[0m\u001b[1;33m(\u001b[0m\u001b[1;32mlambda\u001b[0m \u001b[0mx\u001b[0m\u001b[1;33m:\u001b[0m \u001b[0mx\u001b[0m\u001b[1;33m[\u001b[0m\u001b[1;33m:\u001b[0m\u001b[1;36m7\u001b[0m\u001b[1;33m]\u001b[0m\u001b[1;33m)\u001b[0m\u001b[1;33m\u001b[0m\u001b[0m\n\u001b[0m",
      "\u001b[1;31mTypeError\u001b[0m: 'Timestamp' object is not subscriptable"
     ]
    }
   ],
   "source": [
    "df['Month']=df['Date'].apply(lambda x: x[:7])"
   ]
  },
  {
   "cell_type": "code",
   "execution_count": 99,
   "metadata": {
    "collapsed": true
   },
   "outputs": [],
   "source": [
    "# Add a col for cumulated distance, 0 starting from first of a month\n",
    "df['cum_distance'] = df.groupby(df.index.month)['distance'].cumsum()"
   ]
  },
  {
   "cell_type": "code",
   "execution_count": null,
   "metadata": {
    "collapsed": true
   },
   "outputs": [],
   "source": [
    "# TODO"
   ]
  }
 ],
 "metadata": {
  "kernelspec": {
   "display_name": "Python [conda root]",
   "language": "python",
   "name": "conda-root-py"
  },
  "language_info": {
   "codemirror_mode": {
    "name": "ipython",
    "version": 3
   },
   "file_extension": ".py",
   "mimetype": "text/x-python",
   "name": "python",
   "nbconvert_exporter": "python",
   "pygments_lexer": "ipython3",
   "version": "3.5.3"
  }
 },
 "nbformat": 4,
 "nbformat_minor": 2
}
